{
  "nbformat": 4,
  "nbformat_minor": 0,
  "metadata": {
    "colab": {
      "provenance": []
    },
    "kernelspec": {
      "name": "python3",
      "display_name": "Python 3"
    },
    "language_info": {
      "name": "python"
    }
  },
  "cells": [
    {
      "cell_type": "code",
      "execution_count": 1,
      "metadata": {
        "id": "29sav-enngCf"
      },
      "outputs": [],
      "source": [
        "import socket\n",
        "import select"
      ]
    },
    {
      "cell_type": "code",
      "source": [
        "IP = \"127.0.0.1\"\n",
        "PORT = 1234\n",
        "HEADER_LENGTH = 10\n",
        "disconnect_msg = \"exit\""
      ],
      "metadata": {
        "id": "enEehjLYnmGZ"
      },
      "execution_count": 2,
      "outputs": []
    },
    {
      "cell_type": "code",
      "source": [
        "sskt = socket.socket(socket.AF_INET, socket.SOCK_STREAM)\n",
        "sskt.setsockopt(socket.SOL_SOCKET, socket.SO_REUSEADDR, 1)\n",
        "sskt.bind((IP, PORT))\n",
        "sskt.listen()\n",
        "sockets_list = [sskt]\n",
        "clients = {}\n",
        "print(f'Listening for connections on {IP}:{PORT}...')"
      ],
      "metadata": {
        "colab": {
          "base_uri": "https://localhost:8080/"
        },
        "id": "ZWHeOiY7nmI9",
        "outputId": "50c3deca-1086-4803-fdac-e82fca10978f"
      },
      "execution_count": 3,
      "outputs": [
        {
          "output_type": "stream",
          "name": "stdout",
          "text": [
            "Listening for connections on 127.0.0.1:1234...\n"
          ]
        }
      ]
    },
    {
      "cell_type": "code",
      "source": [
        "def receive_message(client_socket):\n",
        "    try:\n",
        "        msg_x = client_socket.recv(HEADER_LENGTH)\n",
        "        if not len(msg_x):\n",
        "            return False\n",
        "        msg_len = int(msg_x.decode('utf-8').strip())\n",
        "        return {'header': msg_x, 'data': client_socket.recv(msg_len)}\n",
        "    except:\n",
        "        return False"
      ],
      "metadata": {
        "id": "17fEqLOVnmLc"
      },
      "execution_count": 4,
      "outputs": []
    },
    {
      "cell_type": "code",
      "source": [
        "while True:\n",
        "    read_sockets, _, exception_sockets = select.select(sockets_list, [], sockets_list)\n",
        "    for notified_socket in read_sockets:\n",
        "        if notified_socket == sskt:\n",
        "            client_socket, client_address = sskt.accept()\n",
        "            user = receive_message(client_socket)\n",
        "            if user is False:\n",
        "                continue\n",
        "            sockets_list.append(client_socket)\n",
        "            clients[client_socket] = user\n",
        "            print('Accepted new connection from {}:{}, username: {}'.format(*client_address, user['data'].decode('utf-8')))\n",
        "        else:\n",
        "            message = receive_message(notified_socket)\n",
        "            if message is False:\n",
        "                print('Closed connection from: {}'.format(clients[notified_socket]['data'].decode('utf-8')))\n",
        "                sockets_list.remove(notified_socket)\n",
        "                del clients[notified_socket]\n",
        "                continue\n",
        "            elif message == disconnect_msg:\n",
        "                break\n",
        "            user = clients[notified_socket]\n",
        "            print(f'Received message from {user[\"data\"].decode(\"utf-8\")}: {message[\"data\"].decode(\"utf-8\")}')\n",
        "            for client_socket in clients:\n",
        "                if client_socket != notified_socket:\n",
        "                    client_socket.send(user['header'] + user['data'] + message['header'] + message['data'])"
      ],
      "metadata": {
        "id": "bLmSaItPnmN9"
      },
      "execution_count": null,
      "outputs": []
    }
  ]
}